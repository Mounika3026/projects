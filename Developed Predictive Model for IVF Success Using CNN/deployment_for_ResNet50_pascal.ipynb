{
  "nbformat": 4,
  "nbformat_minor": 0,
  "metadata": {
    "colab": {
      "provenance": []
    },
    "kernelspec": {
      "name": "python3",
      "display_name": "Python 3"
    },
    "language_info": {
      "name": "python"
    }
  },
  "cells": [
    {
      "cell_type": "code",
      "execution_count": null,
      "metadata": {
        "id": "iAfl2nst8Kjm"
      },
      "outputs": [],
      "source": [
        "!pip install streamlit pillow numpy joblib tensorflow\n",
        "!pip install --upgrade tensorflow\n",
        "!pip install streamlit -q\n"
      ]
    },
    {
      "cell_type": "code",
      "source": [
        "!wget -q -O - ipv4.icanhazip.com"
      ],
      "metadata": {
        "id": "qfZHY8P08SXv"
      },
      "execution_count": null,
      "outputs": []
    },
    {
      "cell_type": "code",
      "source": [
        "%%writefile app.py\n",
        "\n",
        "import streamlit as st\n",
        "import numpy as np\n",
        "from skimage.io import imread\n",
        "from skimage.transform import resize\n",
        "from keras.models import load_model\n",
        "from tensorflow.keras.preprocessing.image import load_img, img_to_array\n",
        "from tensorflow.keras.applications.resnet50 import preprocess_input\n",
        "from PIL import Image, ImageOps\n",
        "\n",
        "\n",
        "st.title('embryo prediction')\n",
        "st.text('Upload an image')\n",
        "\n",
        "# Load the trained model\n",
        "model = load_model(\"/content/path/to/save/model.h5\")\n",
        "\n",
        "\n",
        "uploaded_file = st.file_uploader(\"Choose an image...\", type=[\"jpg\", \"png\", \"jpeg\"])\n",
        "if uploaded_file is not None:\n",
        "    img = Image.open(uploaded_file)\n",
        "    st.image(img, caption='Uploaded Image', use_column_width=True)\n",
        "\n",
        "    if st.button('PREDICT'):\n",
        "        st.write('Result...')\n",
        "\n",
        "        # Resize the image to match the model's input shape\n",
        "        img = img.resize((224, 224))\n",
        "\n",
        "        # Convert image to array and preprocess input according to the model\n",
        "        img_array = np.array(img)\n",
        "        img_array = img_array / 255.0  # Normalize pixel values\n",
        "        img_array = np.expand_dims(img_array, axis=0)  # Add batch dimension\n",
        "\n",
        "        # Make prediction using the model\n",
        "        prediction = model.predict(img_array)\n",
        "\n",
        "        # Interpret the prediction\n",
        "        if prediction[0][0] > 0.5:\n",
        "            st.write(\"Prediction: Bad\")\n",
        "        else:\n",
        "            st.write(\"Prediction: Good\")\n",
        "\n"
      ],
      "metadata": {
        "id": "0sr3QAwQ8Tqr"
      },
      "execution_count": null,
      "outputs": []
    },
    {
      "cell_type": "code",
      "source": [
        "!streamlit run app.py & npx localtunnel --port 8501"
      ],
      "metadata": {
        "id": "GmuN8a9L8WA_"
      },
      "execution_count": null,
      "outputs": []
    }
  ]
}