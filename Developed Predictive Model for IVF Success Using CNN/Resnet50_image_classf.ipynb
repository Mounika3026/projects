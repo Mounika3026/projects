{
  "nbformat": 4,
  "nbformat_minor": 0,
  "metadata": {
    "colab": {
      "provenance": [],
      "gpuType": "T4"
    },
    "kernelspec": {
      "name": "python3",
      "display_name": "Python 3"
    },
    "language_info": {
      "name": "python"
    },
    "accelerator": "GPU"
  },
  "cells": [
    {
      "cell_type": "code",
      "execution_count": null,
      "metadata": {
        "id": "Nv4oDOS_Wc_d"
      },
      "outputs": [],
      "source": [
        "import numpy as np\n",
        "import pandas as pd\n",
        "import os\n",
        "from tensorflow.keras.preprocessing.image import ImageDataGenerator\n",
        "from tensorflow.keras.applications import ResNet50\n",
        "from tensorflow.keras.models import Model\n",
        "from tensorflow.keras.layers import Dense, GlobalAveragePooling2D\n",
        "from tensorflow.keras.optimizers import Adam"
      ]
    },
    {
      "cell_type": "code",
      "source": [
        "from google.colab import drive\n",
        "drive.mount('/content/drive')"
      ],
      "metadata": {
        "colab": {
          "base_uri": "https://localhost:8080/"
        },
        "id": "A0WDr2OHZ8BF",
        "outputId": "967797cb-136e-4edb-c2eb-2f4336217505"
      },
      "execution_count": null,
      "outputs": [
        {
          "output_type": "stream",
          "name": "stdout",
          "text": [
            "Mounted at /content/drive\n"
          ]
        }
      ]
    },
    {
      "cell_type": "code",
      "source": [
        "# Define the paths\n",
        "train_dir = '/content/drive/MyDrive/Oocyte.v6i.multiclass/train'\n",
        "valid_dir = '/content/drive/MyDrive/Oocyte.v6i.multiclass/valid'\n",
        "test_dir = '/content/drive/MyDrive/Oocyte.v6i.multiclass/test'\n",
        "num_classes = 2"
      ],
      "metadata": {
        "id": "GyJ9Ag8DWr_f"
      },
      "execution_count": null,
      "outputs": []
    },
    {
      "cell_type": "code",
      "source": [
        "# Load CSV files\n",
        "train_csv = pd.read_csv(os.path.join(train_dir, '/content/drive/MyDrive/Oocyte.v6i.multiclass/train/_classes.csv'))\n",
        "valid_csv = pd.read_csv(os.path.join(valid_dir, '/content/drive/MyDrive/Oocyte.v6i.multiclass/valid/_classes.csv'))\n",
        "test_csv = pd.read_csv(os.path.join(test_dir, '/content/drive/MyDrive/Oocyte.v6i.multiclass/test/_classes.csv'))"
      ],
      "metadata": {
        "id": "tf9PGaBqWqvM"
      },
      "execution_count": null,
      "outputs": []
    },
    {
      "cell_type": "code",
      "source": [
        "# Data generators\n",
        "train_datagen = ImageDataGenerator(\n",
        "    rescale=1.0/255.0,\n",
        "    rotation_range=20,\n",
        "    width_shift_range=0.2,\n",
        "    height_shift_range=0.2,\n",
        "    shear_range=0.2,\n",
        "    zoom_range=0.2,\n",
        "    horizontal_flip=True,\n",
        "    fill_mode='nearest')\n",
        "\n",
        "valid_datagen = ImageDataGenerator(rescale=1.0/255.0)\n",
        "test_datagen = ImageDataGenerator(rescale=1.0/255.0)"
      ],
      "metadata": {
        "id": "hpjVFhIWfkz8"
      },
      "execution_count": null,
      "outputs": []
    },
    {
      "cell_type": "code",
      "source": [
        "print(\"Train CSV columns:\", train_csv.columns)"
      ],
      "metadata": {
        "colab": {
          "base_uri": "https://localhost:8080/"
        },
        "id": "X6vwN3f1jAwq",
        "outputId": "6fc22254-f671-4e89-85c0-81628a5266e0"
      },
      "execution_count": null,
      "outputs": [
        {
          "output_type": "stream",
          "name": "stdout",
          "text": [
            "Train CSV columns: Index(['filename', ' bad', ' good'], dtype='object')\n"
          ]
        }
      ]
    },
    {
      "cell_type": "code",
      "source": [
        "train_generator = train_datagen.flow_from_dataframe(\n",
        "    dataframe=train_csv,\n",
        "    directory=train_dir,\n",
        "    x_col=\"filename\",\n",
        "    y_col=[\" bad\", \" good\"],\n",
        "    target_size=(224, 224),\n",
        "    batch_size=32,\n",
        "    class_mode='raw')\n",
        "\n",
        "valid_generator = valid_datagen.flow_from_dataframe(\n",
        "    dataframe=valid_csv,\n",
        "    directory=valid_dir,\n",
        "    x_col=\"filename\",\n",
        "    y_col=[\" bad\", \" good\"],\n",
        "    target_size=(224, 224),\n",
        "    batch_size=32,\n",
        "    class_mode='raw')\n",
        "\n",
        "test_generator = test_datagen.flow_from_dataframe(\n",
        "    dataframe=test_csv,\n",
        "    directory=test_dir,\n",
        "    x_col=\"filename\",\n",
        "    y_col=[\" bad\", \" good\"],\n",
        "    target_size=(224, 224),\n",
        "    batch_size=32,\n",
        "    class_mode='raw')"
      ],
      "metadata": {
        "colab": {
          "base_uri": "https://localhost:8080/"
        },
        "id": "uDkLK03VWo0c",
        "outputId": "6a9af003-af6c-4c6a-ca0c-96d52b5a25c0"
      },
      "execution_count": null,
      "outputs": [
        {
          "output_type": "stream",
          "name": "stdout",
          "text": [
            "Found 957 validated image filenames.\n",
            "Found 78 validated image filenames.\n",
            "Found 34 validated image filenames.\n"
          ]
        }
      ]
    },
    {
      "cell_type": "code",
      "source": [
        "# Build ResNet-50 model\n",
        "base_model = ResNet50(weights='imagenet', include_top=False)\n",
        "\n",
        "x = base_model.output\n",
        "x = GlobalAveragePooling2D()(x)\n",
        "x = Dense(1024, activation='relu')(x)\n",
        "predictions = Dense(num_classes, activation='sigmoid')(x)\n",
        "\n",
        "model = Model(inputs=base_model.input, outputs=predictions)"
      ],
      "metadata": {
        "colab": {
          "base_uri": "https://localhost:8080/"
        },
        "id": "s3Pu5OA5WlwE",
        "outputId": "1bf7e808-acb4-478a-a85c-99c66693238e"
      },
      "execution_count": null,
      "outputs": [
        {
          "output_type": "stream",
          "name": "stdout",
          "text": [
            "Downloading data from https://storage.googleapis.com/tensorflow/keras-applications/resnet/resnet50_weights_tf_dim_ordering_tf_kernels_notop.h5\n",
            "94765736/94765736 [==============================] - 5s 0us/step\n"
          ]
        }
      ]
    },
    {
      "cell_type": "code",
      "source": [
        "# Compile the model\n",
        "model.compile(optimizer=Adam(learning_rate=0.0001),\n",
        "              loss='binary_crossentropy',\n",
        "              metrics=['accuracy'])\n"
      ],
      "metadata": {
        "id": "OA04Zzg8WkID"
      },
      "execution_count": null,
      "outputs": []
    },
    {
      "cell_type": "code",
      "source": [
        "# Train the model\n",
        "model.fit(\n",
        "    train_generator,\n",
        "    steps_per_epoch=len(train_generator),\n",
        "    epochs=10,\n",
        "    validation_data=valid_generator,\n",
        "    validation_steps=len(valid_generator))"
      ],
      "metadata": {
        "colab": {
          "base_uri": "https://localhost:8080/"
        },
        "id": "5uPwShBPWjDo",
        "outputId": "af01099e-5ea2-4adc-9638-ed45a00c5fae"
      },
      "execution_count": null,
      "outputs": [
        {
          "output_type": "stream",
          "name": "stdout",
          "text": [
            "Epoch 1/10\n",
            "30/30 [==============================] - 60s 702ms/step - loss: 0.4580 - accuracy: 0.7722 - val_loss: 0.7351 - val_accuracy: 0.4487\n",
            "Epoch 2/10\n",
            "30/30 [==============================] - 19s 634ms/step - loss: 0.4075 - accuracy: 0.8046 - val_loss: 0.8346 - val_accuracy: 0.4487\n",
            "Epoch 3/10\n",
            "30/30 [==============================] - 20s 643ms/step - loss: 0.4014 - accuracy: 0.8098 - val_loss: 0.9743 - val_accuracy: 0.4487\n",
            "Epoch 4/10\n",
            "30/30 [==============================] - 20s 640ms/step - loss: 0.3866 - accuracy: 0.8234 - val_loss: 1.3480 - val_accuracy: 0.4487\n",
            "Epoch 5/10\n",
            "30/30 [==============================] - 20s 646ms/step - loss: 0.3707 - accuracy: 0.8297 - val_loss: 0.8514 - val_accuracy: 0.4487\n",
            "Epoch 6/10\n",
            "30/30 [==============================] - 22s 720ms/step - loss: 0.3618 - accuracy: 0.8412 - val_loss: 0.8284 - val_accuracy: 0.4487\n",
            "Epoch 7/10\n",
            "30/30 [==============================] - 19s 632ms/step - loss: 0.3436 - accuracy: 0.8464 - val_loss: 0.8469 - val_accuracy: 0.4487\n",
            "Epoch 8/10\n",
            "30/30 [==============================] - 20s 655ms/step - loss: 0.3263 - accuracy: 0.8548 - val_loss: 0.9483 - val_accuracy: 0.4487\n",
            "Epoch 9/10\n",
            "30/30 [==============================] - 19s 622ms/step - loss: 0.2975 - accuracy: 0.8757 - val_loss: 0.7970 - val_accuracy: 0.4487\n",
            "Epoch 10/10\n",
            "30/30 [==============================] - 19s 626ms/step - loss: 0.3089 - accuracy: 0.8704 - val_loss: 0.9392 - val_accuracy: 0.4487\n"
          ]
        },
        {
          "output_type": "execute_result",
          "data": {
            "text/plain": [
              "<keras.callbacks.History at 0x7e49ac7ed780>"
            ]
          },
          "metadata": {},
          "execution_count": 29
        }
      ]
    },
    {
      "cell_type": "code",
      "source": [
        "train_loss, train_accuracy = model.evaluate(train_generator, steps=len(train_generator))\n",
        "val_loss, val_accuracy = model.evaluate(valid_generator, steps=len(valid_generator))\n",
        "test_loss, test_accuracy = model.evaluate(test_generator, steps=len(test_generator))\n",
        "\n",
        "print(f\"Train accuracy: {train_accuracy:.2f}\")\n",
        "print(f\"Validation accuracy: {val_accuracy:.2f}\")\n",
        "print(f\"Test accuracy: {test_accuracy:.2f}\")"
      ],
      "metadata": {
        "colab": {
          "base_uri": "https://localhost:8080/"
        },
        "id": "9d76MFw6WhSd",
        "outputId": "d35a3160-f6f0-4dd0-d7c4-985703a05ef1"
      },
      "execution_count": null,
      "outputs": [
        {
          "output_type": "stream",
          "name": "stdout",
          "text": [
            "30/30 [==============================] - 16s 530ms/step - loss: 0.8993 - accuracy: 0.5110\n",
            "3/3 [==============================] - 0s 98ms/step - loss: 0.9392 - accuracy: 0.4487\n",
            "2/2 [==============================] - 0s 23ms/step - loss: 0.6611 - accuracy: 0.6765\n",
            "Train accuracy: 0.51\n",
            "Validation accuracy: 0.45\n",
            "Test accuracy: 0.68\n"
          ]
        }
      ]
    }
  ]
}